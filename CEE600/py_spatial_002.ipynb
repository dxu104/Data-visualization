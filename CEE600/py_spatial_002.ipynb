{
 "cells": [
  {
   "cell_type": "markdown",
   "metadata": {
    "id": "uwUiwAdk69Jy"
   },
   "source": [
    "# **Operations on spatial data attributes using Python**\n",
    "\n",
    "This lesson focuses on Python methods for dealing with attribute data of spatial layers, including: \n",
    "\n",
    "* getting descriptive summaries\n",
    "* subsetting data based on conditions\n",
    "* calculating or adding new columns to the attribute table\n",
    "* sorting values in a column\n",
    "* reclassifying values\n",
    "* removing columns and \n",
    "* merging data from two tables based on a common field."
   ]
  },
  {
   "cell_type": "markdown",
   "metadata": {
    "id": "4m_A9F497tqj"
   },
   "source": [
    "Let's use geopandas to read in and plot the shapefile for this tutorial:"
   ]
  },
  {
   "cell_type": "code",
   "execution_count": null,
   "metadata": {
    "id": "AkqgdPqp7t1_"
   },
   "outputs": [],
   "source": [
    "import geopandas\n",
    "america = geopandas.read_file('america.shp')\n",
    "america.plot()"
   ]
  },
  {
   "cell_type": "markdown",
   "metadata": {
    "id": "1op6UyywTpSp"
   },
   "source": [
    "There are several pandas commands helpful for exploring the attribute data of a spatial layer, such as `head()`, `describe()` and `info()`.\n",
    "\n",
    "`describe()` is useful to generate a summary with descriptive statistics for numeric columns, including central tendency and dispersion measures (e.g., average, standard deviation, quartiles):"
   ]
  },
  {
   "cell_type": "code",
   "execution_count": null,
   "metadata": {
    "id": "iSaipc2LTpeQ"
   },
   "outputs": [],
   "source": [
    "america.describe()"
   ]
  },
  {
   "cell_type": "markdown",
   "metadata": {
    "id": "f_E0QNlySPzP"
   },
   "source": [
    "`info()` prints a summary of the (Geo)DataFrame showing the number of entries (i.e., rows) and columns. \n",
    "\n",
    "Furthermore, `info()` prints each column name with the corresponding count of non-null values and its data type. "
   ]
  },
  {
   "cell_type": "code",
   "execution_count": null,
   "metadata": {
    "id": "guFrBR3ZR6JE"
   },
   "outputs": [],
   "source": [
    "america.info()"
   ]
  },
  {
   "cell_type": "markdown",
   "metadata": {
    "id": "xOOVWcATTScF"
   },
   "source": [
    "## **Subsetting data**\n",
    "\n",
    "Geopandas is built on top of Pandas so Pandas functionalities can be applied to GeoDataFrames. \n",
    "\n",
    "We can query the attribute data of a GeoDataFrame to find features that meet a given condition in the same way we would do it with a pandas DataFrame.\n",
    "\n",
    "For example let's subset the `america` GeoDataFrame to create a map named `north_america`, that contains only two countries, Canada and the United States:"
   ]
  },
  {
   "cell_type": "code",
   "execution_count": null,
   "metadata": {
    "id": "itZ2o_ofSglv"
   },
   "outputs": [],
   "source": [
    "north_america = america[america['CNTRY_NAME'].isin(['Canada','United States'])]\n",
    "north_america.plot()"
   ]
  },
  {
   "cell_type": "markdown",
   "metadata": {
    "id": "Rd-HRawgUVFQ"
   },
   "source": [
    "## **Adding a new column to a GeoDataFrame**\n",
    "\n",
    "To add a new column to a GeoDataFrame we can type the name of the GeoDataFrame followed by square brackets with the name of the new column, and after an equal sign we type the new values or the operation that will produce the values for the new column.\n",
    "\n",
    "For instance, let's create a new column in the `north_america` GeoDataFrame called 'region' filled with the string 'North America' for all the records:"
   ]
  },
  {
   "cell_type": "code",
   "execution_count": null,
   "metadata": {
    "id": "jrK7r0FqUVOE"
   },
   "outputs": [],
   "source": [
    "north_america['region'] = 'North America'\n",
    "north_america.head()"
   ]
  },
  {
   "cell_type": "markdown",
   "metadata": {
    "id": "ebff75PracBG"
   },
   "source": [
    "## **Sorting and reclassifying values in a column in a GeoDataFrame**\n",
    "\n",
    "The `sort_values()` method can be used to sort values in a column.\n",
    "\n",
    "For example, the values in the 'ID_CNTRY' column in the GeoDataFrame are unordered:"
   ]
  },
  {
   "cell_type": "code",
   "execution_count": null,
   "metadata": {},
   "outputs": [],
   "source": [
    "america.head()"
   ]
  },
  {
   "cell_type": "markdown",
   "metadata": {},
   "source": [
    "Let's run `sort_values()` to sort the GeoDataFrame by the 'ID_CNTRY' column.\n",
    "\n",
    "Let's update the GeoDataFrame modifying it in place with `inplace=True`:"
   ]
  },
  {
   "cell_type": "code",
   "execution_count": null,
   "metadata": {
    "id": "Ycx0iGufacI7"
   },
   "outputs": [],
   "source": [
    "america.sort_values(by='ID_CNTRY', inplace=True)\n",
    "america.head()"
   ]
  },
  {
   "cell_type": "markdown",
   "metadata": {
    "id": "Dd8RIrQmp76Z"
   },
   "source": [
    "## **Reclassifying values in a column in a GeoDataFrame**\n",
    "\n",
    "The `cut()` method can help to reclassify values in a GeoDataFrame column. We can use `cut()` to bin the values in a numeric column to create a categorical variable.\n",
    "\n",
    "For this tutorial, let's run `cut()` to reclassify the 'ID_CNTRY' column in the `america` GeoDataFrame into 3 categories:\n",
    "\n",
    "* countries with ID_CNTRY 1-13 will be classified as `south` (South America, i.e., Argentina, Bolivia, etc.)\n",
    "* countries with ID_CNTRY 14-21 will be classified as `central` (Central America, i.e., Belize, Costa Rica, etc.) \n",
    "* countries with ID_CNTRY 22-23 will be classified as `north` (North America, i.e., Canada and United States)."
   ]
  },
  {
   "cell_type": "code",
   "execution_count": null,
   "metadata": {
    "id": "REHthQaLp8HU"
   },
   "outputs": [],
   "source": [
    "import pandas as pd\n",
    "america['region'] = pd.cut(x=america.ID_CNTRY, bins=[0,13,21,23], labels=['south', 'central', 'north'])\n",
    "america"
   ]
  },
  {
   "cell_type": "markdown",
   "metadata": {
    "id": "o_cnrOxsp8Wx"
   },
   "source": [
    "## **Removing columns from a GeoDataFrame**\n",
    "\n",
    "Sometimes it can be helpful to remove one or more columns from a (Geo)DataFrame to make a dataset smaller or to produce a file with smaller size.\n",
    "\n",
    "This can be achieved with pandas' `drop()` function entering the list of columns to remove as input to the 'columns' parameter:"
   ]
  },
  {
   "cell_type": "code",
   "execution_count": null,
   "metadata": {
    "id": "TCoC9Z9Sodor"
   },
   "outputs": [],
   "source": [
    "america.drop(columns=['SQMI_CNTRY'], inplace=True)\n",
    "america.head()"
   ]
  },
  {
   "cell_type": "markdown",
   "metadata": {
    "id": "gTIV2dtrtJSe"
   },
   "source": [
    "## **Merge a GeoDataFrame with a DataFrame based on a common column**\n",
    "\n",
    "The `merge()` function can be used for merging tables (also referred to as 'joining' tables), for example to merge data from a .csv table to a GeoDataFrame.\n",
    "\n",
    "Let's merge the `america` GeoDataFrame with a DataFrame read from a .csv containing population data for each country. \n",
    "\n",
    "Let's read in the 'pop_by_country_america.csv' file first and take a look at it:"
   ]
  },
  {
   "cell_type": "code",
   "execution_count": null,
   "metadata": {
    "id": "uZe4-RGqtJiH"
   },
   "outputs": [],
   "source": [
    "population = pd.read_csv('pop_by_country_america.csv')\n",
    "population.head()"
   ]
  },
  {
   "cell_type": "markdown",
   "metadata": {
    "id": "AOA25mtmtKPe"
   },
   "source": [
    "Both tables have a column called 'CNTRY_NAME' with identical names for each country, so we can perform the merging based on this key column.\n",
    "\n",
    "Let's run the `merge()` method to merge the `population` DataFrame to the `america` GeoDataFrame based on the 'CNTRY_NAME' column, saving the result as `america`:"
   ]
  },
  {
   "cell_type": "code",
   "execution_count": null,
   "metadata": {
    "id": "46AACnq2tKak"
   },
   "outputs": [],
   "source": [
    "america = america.merge(population, on='CNTRY_NAME')\n",
    "america"
   ]
  }
 ],
 "metadata": {
  "colab": {
   "collapsed_sections": [],
   "name": "py-spatial_002.ipynb",
   "provenance": []
  },
  "kernelspec": {
   "display_name": "Python 3",
   "language": "python",
   "name": "python3"
  },
  "language_info": {
   "codemirror_mode": {
    "name": "ipython",
    "version": 3
   },
   "file_extension": ".py",
   "mimetype": "text/x-python",
   "name": "python",
   "nbconvert_exporter": "python",
   "pygments_lexer": "ipython3",
   "version": "3.8.5"
  }
 },
 "nbformat": 4,
 "nbformat_minor": 1
}
